{
 "cells": [
  {
   "cell_type": "code",
   "execution_count": 1,
   "metadata": {
    "ExecuteTime": {
     "end_time": "2021-08-19T11:00:21.136428Z",
     "start_time": "2021-08-19T11:00:19.613448Z"
    }
   },
   "outputs": [],
   "source": [
    "import os\n",
    "os.chdir('/mnt/c/Users/moritz.osterberger/Desktop/TransGourmet/Data')\n",
    "from tramer.data_prep import read_and_preprocess_data\n",
    "from tramer.data_prep import create_metadata_tables\n",
    "from tramer.lightFM_functions import build_lightFM_dataset\n",
    "from tramer.lightFM_functions import train_light_fm_model"
   ]
  },
  {
   "cell_type": "code",
   "execution_count": 2,
   "metadata": {
    "ExecuteTime": {
     "end_time": "2021-08-19T11:00:21.580353Z",
     "start_time": "2021-08-19T11:00:21.179539Z"
    }
   },
   "outputs": [],
   "source": [
    "from tramer.neighbours_functions import get_similiar_user_euclidean\n",
    "from tramer.neighbours_functions import create_warengruppen_vergleich\n",
    "from tramer.neighbours_functions import create_warengruppen_vergleich_all\n",
    "#from tramer.recommender_functions import get_bought_items"
   ]
  },
  {
   "cell_type": "markdown",
   "metadata": {},
   "source": [
    "#  Read & Preprocess"
   ]
  },
  {
   "cell_type": "code",
   "execution_count": null,
   "metadata": {
    "ExecuteTime": {
     "start_time": "2021-08-19T09:56:22.576Z"
    }
   },
   "outputs": [],
   "source": [
    "kundenstammdaten, artikelstammdaten, sales_data, sales_data_grouped = read_and_preprocess_data(\"./Dimensions/Artikelstammdaten_Foodservice.xlsx\",\"./Dimensions/Kundenstammdaten_Foodservice.xlsx\",\"./sales_Data_2019_Zusteller_ertrag.csv\",filter_to_betrieb_54 = True)"
   ]
  },
  {
   "cell_type": "code",
   "execution_count": null,
   "metadata": {
    "ExecuteTime": {
     "end_time": "2021-08-18T07:24:07.021811Z",
     "start_time": "2021-08-18T07:19:45.267Z"
    }
   },
   "outputs": [],
   "source": [
    "sales_data.head()"
   ]
  },
  {
   "cell_type": "code",
   "execution_count": null,
   "metadata": {
    "ExecuteTime": {
     "end_time": "2021-08-18T07:24:07.032483Z",
     "start_time": "2021-08-18T07:19:46.218Z"
    }
   },
   "outputs": [],
   "source": [
    "sales_data_grouped.head()"
   ]
  },
  {
   "cell_type": "markdown",
   "metadata": {},
   "source": [
    "# Metadata tables"
   ]
  },
  {
   "cell_type": "code",
   "execution_count": 10,
   "metadata": {
    "ExecuteTime": {
     "end_time": "2021-02-23T13:28:00.298254Z",
     "start_time": "2021-02-23T13:28:00.156337Z"
    }
   },
   "outputs": [],
   "source": [
    "artikel_meta, kunden_meta = create_metadata_tables(kundenstammdaten,artikelstammdaten,sales_data_grouped)"
   ]
  },
  {
   "cell_type": "code",
   "execution_count": 2,
   "metadata": {
    "ExecuteTime": {
     "end_time": "2021-08-18T07:19:16.886929Z",
     "start_time": "2021-08-18T07:19:16.869619Z"
    }
   },
   "outputs": [
    {
     "ename": "NameError",
     "evalue": "name 'kunden_meta' is not defined",
     "output_type": "error",
     "traceback": [
      "\u001b[0;31m---------------------------------------------------------------------------\u001b[0m",
      "\u001b[0;31mNameError\u001b[0m                                 Traceback (most recent call last)",
      "\u001b[0;32m<ipython-input-2-582454bec284>\u001b[0m in \u001b[0;36m<module>\u001b[0;34m\u001b[0m\n\u001b[0;32m----> 1\u001b[0;31m \u001b[0mprint\u001b[0m\u001b[0;34m(\u001b[0m\u001b[0mkunden_meta\u001b[0m\u001b[0;34m.\u001b[0m\u001b[0mhead\u001b[0m\u001b[0;34m(\u001b[0m\u001b[0;34m)\u001b[0m\u001b[0;34m)\u001b[0m\u001b[0;34m\u001b[0m\u001b[0;34m\u001b[0m\u001b[0m\n\u001b[0m\u001b[1;32m      2\u001b[0m \u001b[0mprint\u001b[0m\u001b[0;34m(\u001b[0m\u001b[0martikel_meta\u001b[0m\u001b[0;34m.\u001b[0m\u001b[0mhead\u001b[0m\u001b[0;34m(\u001b[0m\u001b[0;34m)\u001b[0m\u001b[0;34m)\u001b[0m\u001b[0;34m\u001b[0m\u001b[0;34m\u001b[0m\u001b[0m\n",
      "\u001b[0;31mNameError\u001b[0m: name 'kunden_meta' is not defined"
     ]
    }
   ],
   "source": [
    "print(kunden_meta.head())\n",
    "print(artikel_meta.head())"
   ]
  },
  {
   "cell_type": "markdown",
   "metadata": {},
   "source": [
    "# Light FM Dataset"
   ]
  },
  {
   "cell_type": "markdown",
   "metadata": {},
   "source": [
    "No user- & item features,\n",
    "Kennzahl: \"Bestellt\""
   ]
  },
  {
   "cell_type": "code",
   "execution_count": 1,
   "metadata": {
    "ExecuteTime": {
     "end_time": "2021-08-18T07:19:12.740054Z",
     "start_time": "2021-08-18T07:19:12.245813Z"
    }
   },
   "outputs": [
    {
     "ename": "NameError",
     "evalue": "name 'build_lightFM_dataset' is not defined",
     "output_type": "error",
     "traceback": [
      "\u001b[0;31m---------------------------------------------------------------------------\u001b[0m",
      "\u001b[0;31mNameError\u001b[0m                                 Traceback (most recent call last)",
      "\u001b[0;32m<ipython-input-1-049ff6f880d3>\u001b[0m in \u001b[0;36m<module>\u001b[0;34m\u001b[0m\n\u001b[0;32m----> 1\u001b[0;31m \u001b[0mdataset\u001b[0m\u001b[0;34m,\u001b[0m \u001b[0minteractions\u001b[0m\u001b[0;34m,\u001b[0m \u001b[0mweights\u001b[0m\u001b[0;34m,\u001b[0m \u001b[0mitem_features\u001b[0m\u001b[0;34m,\u001b[0m\u001b[0muser_features\u001b[0m\u001b[0;34m,\u001b[0m \u001b[0mmappings\u001b[0m \u001b[0;34m=\u001b[0m \u001b[0mbuild_lightFM_dataset\u001b[0m\u001b[0;34m(\u001b[0m\u001b[0martikel_meta\u001b[0m\u001b[0;34m,\u001b[0m \u001b[0mkunden_meta\u001b[0m\u001b[0;34m,\u001b[0m \u001b[0msales_data_grouped\u001b[0m\u001b[0;34m,\u001b[0m \u001b[0mkundenstammdaten\u001b[0m\u001b[0;34m,\u001b[0m \u001b[0martikelstammdaten\u001b[0m\u001b[0;34m,\u001b[0m \u001b[0mweight_for_interaction\u001b[0m\u001b[0;34m=\u001b[0m\u001b[0;34m\"Bestellt\"\u001b[0m\u001b[0;34m,\u001b[0m \u001b[0mitem_feature\u001b[0m\u001b[0;34m=\u001b[0m\u001b[0;32mNone\u001b[0m\u001b[0;34m,\u001b[0m \u001b[0muser_feature\u001b[0m\u001b[0;34m=\u001b[0m\u001b[0;32mNone\u001b[0m\u001b[0;34m)\u001b[0m\u001b[0;34m\u001b[0m\u001b[0;34m\u001b[0m\u001b[0m\n\u001b[0m",
      "\u001b[0;31mNameError\u001b[0m: name 'build_lightFM_dataset' is not defined"
     ]
    }
   ],
   "source": [
    "dataset, interactions, weights, item_features,user_features, mappings = build_lightFM_dataset(artikel_meta, kunden_meta, sales_data_grouped, kundenstammdaten, artikelstammdaten, weight_for_interaction=\"Bestellt\", item_feature=None, user_feature=None)"
   ]
  },
  {
   "cell_type": "code",
   "execution_count": 13,
   "metadata": {
    "ExecuteTime": {
     "end_time": "2021-02-23T13:30:08.230673Z",
     "start_time": "2021-02-23T13:30:08.213337Z"
    }
   },
   "outputs": [
    {
     "name": "stdout",
     "output_type": "stream",
     "text": [
      "Anzahl Kunden: 1192, Anzahl Artikel: 20626.\n",
      "Anzahl Branchen: 26, Anzahl Warengruppen: 294.\n",
      "Sparsity: 1.12%\n"
     ]
    }
   ],
   "source": [
    "num_kunden, num_artikel = dataset.interactions_shape()\n",
    "print(\"Anzahl Kunden: {}, Anzahl Artikel: {}.\".format(num_kunden, num_artikel))\n",
    "print(\"Anzahl Branchen: {}, Anzahl Warengruppen: {}.\".format(len(kunden_meta[\"Branchenschlüssel\"].unique()),len(artikel_meta[\"Warengruppe\"].unique())))\n",
    "print(\"Sparsity: {}%\".format(round(float(sales_data_grouped.shape[0])/ float(num_kunden * num_artikel)* 100,2,)))"
   ]
  },
  {
   "cell_type": "markdown",
   "metadata": {},
   "source": [
    "#  Light FM Model"
   ]
  },
  {
   "cell_type": "code",
   "execution_count": 14,
   "metadata": {
    "ExecuteTime": {
     "end_time": "2021-02-23T13:58:24.967767Z",
     "start_time": "2021-02-23T13:58:18.266996Z"
    }
   },
   "outputs": [],
   "source": [
    "hyperparam = {\"learning_schedule\": 'adagrad',  \n",
    "               \"learning_rate\": 0.05, \n",
    "               \"user_alpha\": 1e-5,\n",
    "               \"item_alpha\": 1e-5,\n",
    "               \"no_components\": 30,\n",
    "               \"max_sampled\": 41,\n",
    "               \"loss\": 'warp'}\n",
    "model = train_light_fm_model(dataset, interactions, user_features, item_features, hyperparam, 30, weights)"
   ]
  },
  {
   "cell_type": "code",
   "execution_count": null,
   "metadata": {},
   "outputs": [],
   "source": [
    "model.get_user_representations()[1]#[1]"
   ]
  },
  {
   "cell_type": "markdown",
   "metadata": {},
   "source": [
    "# Find neighbours"
   ]
  },
  {
   "cell_type": "code",
   "execution_count": 15,
   "metadata": {
    "ExecuteTime": {
     "end_time": "2021-02-23T13:58:54.321760Z",
     "start_time": "2021-02-23T13:58:37.765292Z"
    }
   },
   "outputs": [
    {
     "data": {
      "text/html": [
       "<div>\n",
       "<style scoped>\n",
       "    .dataframe tbody tr th:only-of-type {\n",
       "        vertical-align: middle;\n",
       "    }\n",
       "\n",
       "    .dataframe tbody tr th {\n",
       "        vertical-align: top;\n",
       "    }\n",
       "\n",
       "    .dataframe thead th {\n",
       "        text-align: right;\n",
       "    }\n",
       "</style>\n",
       "<table border=\"1\" class=\"dataframe\">\n",
       "  <thead>\n",
       "    <tr style=\"text-align: right;\">\n",
       "      <th></th>\n",
       "      <th>Hauptkundennummer</th>\n",
       "      <th>neighbour</th>\n",
       "      <th>Similarity</th>\n",
       "    </tr>\n",
       "  </thead>\n",
       "  <tbody>\n",
       "    <tr>\n",
       "      <th>0</th>\n",
       "      <td>V5400051</td>\n",
       "      <td>V5416134</td>\n",
       "      <td>0.706</td>\n",
       "    </tr>\n",
       "    <tr>\n",
       "      <th>1</th>\n",
       "      <td>V5400051</td>\n",
       "      <td>V5414501</td>\n",
       "      <td>0.719</td>\n",
       "    </tr>\n",
       "    <tr>\n",
       "      <th>2</th>\n",
       "      <td>V5400051</td>\n",
       "      <td>V5415089</td>\n",
       "      <td>0.756</td>\n",
       "    </tr>\n",
       "    <tr>\n",
       "      <th>3</th>\n",
       "      <td>V5400051</td>\n",
       "      <td>V5415912</td>\n",
       "      <td>0.758</td>\n",
       "    </tr>\n",
       "    <tr>\n",
       "      <th>4</th>\n",
       "      <td>V5400051</td>\n",
       "      <td>V5415609</td>\n",
       "      <td>0.781</td>\n",
       "    </tr>\n",
       "    <tr>\n",
       "      <th>...</th>\n",
       "      <td>...</td>\n",
       "      <td>...</td>\n",
       "      <td>...</td>\n",
       "    </tr>\n",
       "    <tr>\n",
       "      <th>5875</th>\n",
       "      <td>V5494515</td>\n",
       "      <td>V5494514</td>\n",
       "      <td>0.680</td>\n",
       "    </tr>\n",
       "    <tr>\n",
       "      <th>5876</th>\n",
       "      <td>V5494515</td>\n",
       "      <td>V5490975</td>\n",
       "      <td>0.736</td>\n",
       "    </tr>\n",
       "    <tr>\n",
       "      <th>5877</th>\n",
       "      <td>V5494515</td>\n",
       "      <td>V5494511</td>\n",
       "      <td>0.791</td>\n",
       "    </tr>\n",
       "    <tr>\n",
       "      <th>5878</th>\n",
       "      <td>V5494517</td>\n",
       "      <td>V5494513</td>\n",
       "      <td>0.750</td>\n",
       "    </tr>\n",
       "    <tr>\n",
       "      <th>5879</th>\n",
       "      <td>V5494517</td>\n",
       "      <td>V5494514</td>\n",
       "      <td>0.783</td>\n",
       "    </tr>\n",
       "  </tbody>\n",
       "</table>\n",
       "<p>5880 rows × 3 columns</p>\n",
       "</div>"
      ],
      "text/plain": [
       "     Hauptkundennummer neighbour  Similarity\n",
       "0             V5400051  V5416134       0.706\n",
       "1             V5400051  V5414501       0.719\n",
       "2             V5400051  V5415089       0.756\n",
       "3             V5400051  V5415912       0.758\n",
       "4             V5400051  V5415609       0.781\n",
       "...                ...       ...         ...\n",
       "5875          V5494515  V5494514       0.680\n",
       "5876          V5494515  V5490975       0.736\n",
       "5877          V5494515  V5494511       0.791\n",
       "5878          V5494517  V5494513       0.750\n",
       "5879          V5494517  V5494514       0.783\n",
       "\n",
       "[5880 rows x 3 columns]"
      ]
     },
     "execution_count": 15,
     "metadata": {},
     "output_type": "execute_result"
    }
   ],
   "source": [
    "cut_off = 0.8\n",
    "df_similar = get_similiar_user_euclidean(model, mappings, dataset, cut_off)\n",
    "df_similar"
   ]
  },
  {
   "cell_type": "markdown",
   "metadata": {},
   "source": [
    "# Warengruppenvergleich"
   ]
  },
  {
   "cell_type": "code",
   "execution_count": 16,
   "metadata": {
    "ExecuteTime": {
     "end_time": "2021-02-23T14:07:13.166702Z",
     "start_time": "2021-02-23T13:59:11.329829Z"
    }
   },
   "outputs": [
    {
     "name": "stderr",
     "output_type": "stream",
     "text": [
      "/mnt/c/Users/moritz.osterberger/Desktop/TransGourmet/tramer/src/tramer/neighbours_functions.py:66: RuntimeWarning: invalid value encountered in double_scalars\n",
      "  1 - cut_off)).sum()),\n",
      "/mnt/c/Users/moritz.osterberger/Desktop/TransGourmet/tramer/src/tramer/neighbours_functions.py:76: RuntimeWarning: invalid value encountered in double_scalars\n",
      "  1 - cut_off)).sum(), 3),\n"
     ]
    },
    {
     "data": {
      "text/html": [
       "<div>\n",
       "<style scoped>\n",
       "    .dataframe tbody tr th:only-of-type {\n",
       "        vertical-align: middle;\n",
       "    }\n",
       "\n",
       "    .dataframe tbody tr th {\n",
       "        vertical-align: top;\n",
       "    }\n",
       "\n",
       "    .dataframe thead th {\n",
       "        text-align: right;\n",
       "    }\n",
       "</style>\n",
       "<table border=\"1\" class=\"dataframe\">\n",
       "  <thead>\n",
       "    <tr style=\"text-align: right;\">\n",
       "      <th></th>\n",
       "      <th>Warengruppe</th>\n",
       "      <th>Kernumsatz_Kunde</th>\n",
       "      <th>KBSpanne_Kunde</th>\n",
       "      <th>Count_Nachbarn_Warengruppe_gekauft</th>\n",
       "      <th>Kernumsatz_max</th>\n",
       "      <th>Kernumsatz_mean</th>\n",
       "      <th>Kernumsatz_weighted_mean</th>\n",
       "      <th>Kernumsatz_median</th>\n",
       "      <th>Kernumsatz_st_abwei</th>\n",
       "      <th>Kernumsatz_min</th>\n",
       "      <th>...</th>\n",
       "      <th>Spanne_max</th>\n",
       "      <th>Spanne_mean</th>\n",
       "      <th>Spanne_weighted_mean</th>\n",
       "      <th>Spanne_median</th>\n",
       "      <th>Spanne_st_abwei</th>\n",
       "      <th>Spanne_min</th>\n",
       "      <th>Spanne_3_quantile</th>\n",
       "      <th>Diff_Kernumsatz</th>\n",
       "      <th>Diff_KBSpanne</th>\n",
       "      <th>Hauptkundennummer</th>\n",
       "    </tr>\n",
       "  </thead>\n",
       "  <tbody>\n",
       "    <tr>\n",
       "      <th>0</th>\n",
       "      <td>Abfallbeseit.(Säcke)</td>\n",
       "      <td>237.93</td>\n",
       "      <td>1.982017</td>\n",
       "      <td>1.0</td>\n",
       "      <td>98.40</td>\n",
       "      <td>98.40</td>\n",
       "      <td>98.0</td>\n",
       "      <td>98.40</td>\n",
       "      <td>0.00</td>\n",
       "      <td>98.40</td>\n",
       "      <td>...</td>\n",
       "      <td>0.711</td>\n",
       "      <td>0.711</td>\n",
       "      <td>0.711</td>\n",
       "      <td>0.711</td>\n",
       "      <td>0.000</td>\n",
       "      <td>0.711</td>\n",
       "      <td>0.711</td>\n",
       "      <td>139.93</td>\n",
       "      <td>1.271017</td>\n",
       "      <td>V5400051</td>\n",
       "    </tr>\n",
       "    <tr>\n",
       "      <th>1</th>\n",
       "      <td>Allzweckreiniger</td>\n",
       "      <td>467.69</td>\n",
       "      <td>2.923959</td>\n",
       "      <td>1.0</td>\n",
       "      <td>18.86</td>\n",
       "      <td>18.86</td>\n",
       "      <td>19.0</td>\n",
       "      <td>18.86</td>\n",
       "      <td>0.00</td>\n",
       "      <td>18.86</td>\n",
       "      <td>...</td>\n",
       "      <td>0.453</td>\n",
       "      <td>0.453</td>\n",
       "      <td>0.453</td>\n",
       "      <td>0.453</td>\n",
       "      <td>0.000</td>\n",
       "      <td>0.453</td>\n",
       "      <td>0.453</td>\n",
       "      <td>448.69</td>\n",
       "      <td>2.470959</td>\n",
       "      <td>V5400051</td>\n",
       "    </tr>\n",
       "    <tr>\n",
       "      <th>2</th>\n",
       "      <td>Antipasti frisch</td>\n",
       "      <td>586.23</td>\n",
       "      <td>0.282705</td>\n",
       "      <td>1.0</td>\n",
       "      <td>184.05</td>\n",
       "      <td>184.05</td>\n",
       "      <td>184.0</td>\n",
       "      <td>184.05</td>\n",
       "      <td>0.00</td>\n",
       "      <td>184.05</td>\n",
       "      <td>...</td>\n",
       "      <td>0.301</td>\n",
       "      <td>0.301</td>\n",
       "      <td>0.301</td>\n",
       "      <td>0.301</td>\n",
       "      <td>0.000</td>\n",
       "      <td>0.301</td>\n",
       "      <td>0.301</td>\n",
       "      <td>402.23</td>\n",
       "      <td>-0.018295</td>\n",
       "      <td>V5400051</td>\n",
       "    </tr>\n",
       "    <tr>\n",
       "      <th>3</th>\n",
       "      <td>Aufschnitt</td>\n",
       "      <td>1693.43</td>\n",
       "      <td>0.690987</td>\n",
       "      <td>2.0</td>\n",
       "      <td>332.47</td>\n",
       "      <td>189.40</td>\n",
       "      <td>193.0</td>\n",
       "      <td>189.40</td>\n",
       "      <td>202.33</td>\n",
       "      <td>46.33</td>\n",
       "      <td>...</td>\n",
       "      <td>0.306</td>\n",
       "      <td>0.227</td>\n",
       "      <td>0.225</td>\n",
       "      <td>0.227</td>\n",
       "      <td>0.112</td>\n",
       "      <td>0.148</td>\n",
       "      <td>0.266</td>\n",
       "      <td>1500.43</td>\n",
       "      <td>0.465987</td>\n",
       "      <td>V5400051</td>\n",
       "    </tr>\n",
       "    <tr>\n",
       "      <th>4</th>\n",
       "      <td>Bad- und WC-Reiniger</td>\n",
       "      <td>250.49</td>\n",
       "      <td>0.449160</td>\n",
       "      <td>1.0</td>\n",
       "      <td>10.70</td>\n",
       "      <td>10.70</td>\n",
       "      <td>11.0</td>\n",
       "      <td>10.70</td>\n",
       "      <td>0.00</td>\n",
       "      <td>10.70</td>\n",
       "      <td>...</td>\n",
       "      <td>0.417</td>\n",
       "      <td>0.417</td>\n",
       "      <td>0.417</td>\n",
       "      <td>0.417</td>\n",
       "      <td>0.000</td>\n",
       "      <td>0.417</td>\n",
       "      <td>0.417</td>\n",
       "      <td>239.49</td>\n",
       "      <td>0.032160</td>\n",
       "      <td>V5400051</td>\n",
       "    </tr>\n",
       "    <tr>\n",
       "      <th>...</th>\n",
       "      <td>...</td>\n",
       "      <td>...</td>\n",
       "      <td>...</td>\n",
       "      <td>...</td>\n",
       "      <td>...</td>\n",
       "      <td>...</td>\n",
       "      <td>...</td>\n",
       "      <td>...</td>\n",
       "      <td>...</td>\n",
       "      <td>...</td>\n",
       "      <td>...</td>\n",
       "      <td>...</td>\n",
       "      <td>...</td>\n",
       "      <td>...</td>\n",
       "      <td>...</td>\n",
       "      <td>...</td>\n",
       "      <td>...</td>\n",
       "      <td>...</td>\n",
       "      <td>...</td>\n",
       "      <td>...</td>\n",
       "      <td>...</td>\n",
       "    </tr>\n",
       "    <tr>\n",
       "      <th>230785</th>\n",
       "      <td>Fingerfood/Snack fr.</td>\n",
       "      <td>0.00</td>\n",
       "      <td>0.000000</td>\n",
       "      <td>0.0</td>\n",
       "      <td>0.00</td>\n",
       "      <td>0.00</td>\n",
       "      <td>0.0</td>\n",
       "      <td>0.00</td>\n",
       "      <td>0.00</td>\n",
       "      <td>0.00</td>\n",
       "      <td>...</td>\n",
       "      <td>0.000</td>\n",
       "      <td>0.000</td>\n",
       "      <td>0.000</td>\n",
       "      <td>0.000</td>\n",
       "      <td>0.000</td>\n",
       "      <td>0.000</td>\n",
       "      <td>0.000</td>\n",
       "      <td>0.00</td>\n",
       "      <td>0.000000</td>\n",
       "      <td>V5494517</td>\n",
       "    </tr>\n",
       "    <tr>\n",
       "      <th>230786</th>\n",
       "      <td>Küchenreiniger</td>\n",
       "      <td>0.00</td>\n",
       "      <td>0.000000</td>\n",
       "      <td>0.0</td>\n",
       "      <td>0.00</td>\n",
       "      <td>0.00</td>\n",
       "      <td>0.0</td>\n",
       "      <td>0.00</td>\n",
       "      <td>0.00</td>\n",
       "      <td>0.00</td>\n",
       "      <td>...</td>\n",
       "      <td>0.000</td>\n",
       "      <td>0.000</td>\n",
       "      <td>0.000</td>\n",
       "      <td>0.000</td>\n",
       "      <td>0.000</td>\n",
       "      <td>0.000</td>\n",
       "      <td>0.000</td>\n",
       "      <td>0.00</td>\n",
       "      <td>0.000000</td>\n",
       "      <td>V5494517</td>\n",
       "    </tr>\n",
       "    <tr>\n",
       "      <th>230787</th>\n",
       "      <td>Milchmischgetränke</td>\n",
       "      <td>0.00</td>\n",
       "      <td>0.000000</td>\n",
       "      <td>0.0</td>\n",
       "      <td>0.00</td>\n",
       "      <td>0.00</td>\n",
       "      <td>0.0</td>\n",
       "      <td>0.00</td>\n",
       "      <td>0.00</td>\n",
       "      <td>0.00</td>\n",
       "      <td>...</td>\n",
       "      <td>0.000</td>\n",
       "      <td>0.000</td>\n",
       "      <td>0.000</td>\n",
       "      <td>0.000</td>\n",
       "      <td>0.000</td>\n",
       "      <td>0.000</td>\n",
       "      <td>0.000</td>\n",
       "      <td>0.00</td>\n",
       "      <td>0.000000</td>\n",
       "      <td>V5494517</td>\n",
       "    </tr>\n",
       "    <tr>\n",
       "      <th>230788</th>\n",
       "      <td>Kleingebäck</td>\n",
       "      <td>0.00</td>\n",
       "      <td>0.000000</td>\n",
       "      <td>0.0</td>\n",
       "      <td>0.00</td>\n",
       "      <td>0.00</td>\n",
       "      <td>0.0</td>\n",
       "      <td>0.00</td>\n",
       "      <td>0.00</td>\n",
       "      <td>0.00</td>\n",
       "      <td>...</td>\n",
       "      <td>0.000</td>\n",
       "      <td>0.000</td>\n",
       "      <td>0.000</td>\n",
       "      <td>0.000</td>\n",
       "      <td>0.000</td>\n",
       "      <td>0.000</td>\n",
       "      <td>0.000</td>\n",
       "      <td>0.00</td>\n",
       "      <td>0.000000</td>\n",
       "      <td>V5494517</td>\n",
       "    </tr>\n",
       "    <tr>\n",
       "      <th>230789</th>\n",
       "      <td>Backmischungen</td>\n",
       "      <td>0.00</td>\n",
       "      <td>0.000000</td>\n",
       "      <td>0.0</td>\n",
       "      <td>0.00</td>\n",
       "      <td>0.00</td>\n",
       "      <td>0.0</td>\n",
       "      <td>0.00</td>\n",
       "      <td>0.00</td>\n",
       "      <td>0.00</td>\n",
       "      <td>...</td>\n",
       "      <td>0.000</td>\n",
       "      <td>0.000</td>\n",
       "      <td>0.000</td>\n",
       "      <td>0.000</td>\n",
       "      <td>0.000</td>\n",
       "      <td>0.000</td>\n",
       "      <td>0.000</td>\n",
       "      <td>0.00</td>\n",
       "      <td>0.000000</td>\n",
       "      <td>V5494517</td>\n",
       "    </tr>\n",
       "  </tbody>\n",
       "</table>\n",
       "<p>230790 rows × 21 columns</p>\n",
       "</div>"
      ],
      "text/plain": [
       "                 Warengruppe  Kernumsatz_Kunde  KBSpanne_Kunde  \\\n",
       "0       Abfallbeseit.(Säcke)            237.93        1.982017   \n",
       "1           Allzweckreiniger            467.69        2.923959   \n",
       "2           Antipasti frisch            586.23        0.282705   \n",
       "3                 Aufschnitt           1693.43        0.690987   \n",
       "4       Bad- und WC-Reiniger            250.49        0.449160   \n",
       "...                      ...               ...             ...   \n",
       "230785  Fingerfood/Snack fr.              0.00        0.000000   \n",
       "230786        Küchenreiniger              0.00        0.000000   \n",
       "230787    Milchmischgetränke              0.00        0.000000   \n",
       "230788           Kleingebäck              0.00        0.000000   \n",
       "230789        Backmischungen              0.00        0.000000   \n",
       "\n",
       "        Count_Nachbarn_Warengruppe_gekauft  Kernumsatz_max  Kernumsatz_mean  \\\n",
       "0                                      1.0           98.40            98.40   \n",
       "1                                      1.0           18.86            18.86   \n",
       "2                                      1.0          184.05           184.05   \n",
       "3                                      2.0          332.47           189.40   \n",
       "4                                      1.0           10.70            10.70   \n",
       "...                                    ...             ...              ...   \n",
       "230785                                 0.0            0.00             0.00   \n",
       "230786                                 0.0            0.00             0.00   \n",
       "230787                                 0.0            0.00             0.00   \n",
       "230788                                 0.0            0.00             0.00   \n",
       "230789                                 0.0            0.00             0.00   \n",
       "\n",
       "        Kernumsatz_weighted_mean  Kernumsatz_median  Kernumsatz_st_abwei  \\\n",
       "0                           98.0              98.40                 0.00   \n",
       "1                           19.0              18.86                 0.00   \n",
       "2                          184.0             184.05                 0.00   \n",
       "3                          193.0             189.40               202.33   \n",
       "4                           11.0              10.70                 0.00   \n",
       "...                          ...                ...                  ...   \n",
       "230785                       0.0               0.00                 0.00   \n",
       "230786                       0.0               0.00                 0.00   \n",
       "230787                       0.0               0.00                 0.00   \n",
       "230788                       0.0               0.00                 0.00   \n",
       "230789                       0.0               0.00                 0.00   \n",
       "\n",
       "        Kernumsatz_min  ...  Spanne_max  Spanne_mean  Spanne_weighted_mean  \\\n",
       "0                98.40  ...       0.711        0.711                 0.711   \n",
       "1                18.86  ...       0.453        0.453                 0.453   \n",
       "2               184.05  ...       0.301        0.301                 0.301   \n",
       "3                46.33  ...       0.306        0.227                 0.225   \n",
       "4                10.70  ...       0.417        0.417                 0.417   \n",
       "...                ...  ...         ...          ...                   ...   \n",
       "230785            0.00  ...       0.000        0.000                 0.000   \n",
       "230786            0.00  ...       0.000        0.000                 0.000   \n",
       "230787            0.00  ...       0.000        0.000                 0.000   \n",
       "230788            0.00  ...       0.000        0.000                 0.000   \n",
       "230789            0.00  ...       0.000        0.000                 0.000   \n",
       "\n",
       "        Spanne_median  Spanne_st_abwei  Spanne_min  Spanne_3_quantile  \\\n",
       "0               0.711            0.000       0.711              0.711   \n",
       "1               0.453            0.000       0.453              0.453   \n",
       "2               0.301            0.000       0.301              0.301   \n",
       "3               0.227            0.112       0.148              0.266   \n",
       "4               0.417            0.000       0.417              0.417   \n",
       "...               ...              ...         ...                ...   \n",
       "230785          0.000            0.000       0.000              0.000   \n",
       "230786          0.000            0.000       0.000              0.000   \n",
       "230787          0.000            0.000       0.000              0.000   \n",
       "230788          0.000            0.000       0.000              0.000   \n",
       "230789          0.000            0.000       0.000              0.000   \n",
       "\n",
       "        Diff_Kernumsatz  Diff_KBSpanne  Hauptkundennummer  \n",
       "0                139.93       1.271017           V5400051  \n",
       "1                448.69       2.470959           V5400051  \n",
       "2                402.23      -0.018295           V5400051  \n",
       "3               1500.43       0.465987           V5400051  \n",
       "4                239.49       0.032160           V5400051  \n",
       "...                 ...            ...                ...  \n",
       "230785             0.00       0.000000           V5494517  \n",
       "230786             0.00       0.000000           V5494517  \n",
       "230787             0.00       0.000000           V5494517  \n",
       "230788             0.00       0.000000           V5494517  \n",
       "230789             0.00       0.000000           V5494517  \n",
       "\n",
       "[230790 rows x 21 columns]"
      ]
     },
     "execution_count": 16,
     "metadata": {},
     "output_type": "execute_result"
    }
   ],
   "source": [
    "warengruppen_merged_all = create_warengruppen_vergleich_all(mappings, sales_data_grouped, interactions, df_similar, cut_off, allewarengruppen = True)\n",
    "warengruppen_merged_all"
   ]
  },
  {
   "cell_type": "code",
   "execution_count": null,
   "metadata": {},
   "outputs": [],
   "source": []
  }
 ],
 "metadata": {
  "kernelspec": {
   "display_name": "Python 3 (ipykernel)",
   "language": "python",
   "name": "python3"
  },
  "language_info": {
   "codemirror_mode": {
    "name": "ipython",
    "version": 3
   },
   "file_extension": ".py",
   "mimetype": "text/x-python",
   "name": "python",
   "nbconvert_exporter": "python",
   "pygments_lexer": "ipython3",
   "version": "3.9.6"
  },
  "toc": {
   "base_numbering": 1,
   "nav_menu": {},
   "number_sections": true,
   "sideBar": true,
   "skip_h1_title": false,
   "title_cell": "Table of Contents",
   "title_sidebar": "Contents",
   "toc_cell": false,
   "toc_position": {},
   "toc_section_display": true,
   "toc_window_display": false
  },
  "varInspector": {
   "cols": {
    "lenName": 16,
    "lenType": 16,
    "lenVar": 40
   },
   "kernels_config": {
    "python": {
     "delete_cmd_postfix": "",
     "delete_cmd_prefix": "del ",
     "library": "var_list.py",
     "varRefreshCmd": "print(var_dic_list())"
    },
    "r": {
     "delete_cmd_postfix": ") ",
     "delete_cmd_prefix": "rm(",
     "library": "var_list.r",
     "varRefreshCmd": "cat(var_dic_list()) "
    }
   },
   "types_to_exclude": [
    "module",
    "function",
    "builtin_function_or_method",
    "instance",
    "_Feature"
   ],
   "window_display": false
  }
 },
 "nbformat": 4,
 "nbformat_minor": 4
}
